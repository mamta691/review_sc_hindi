{
  "cells": [
    {
      "cell_type": "markdown",
      "metadata": {
        "id": "view-in-github",
        "colab_type": "text"
      },
      "source": [
        "<a href=\"https://colab.research.google.com/github/mamta691/review_sc_hindi/blob/main/Text_Processing_For_NLP_String_Tokenization.ipynb\" target=\"_parent\"><img src=\"https://colab.research.google.com/assets/colab-badge.svg\" alt=\"Open In Colab\"/></a>"
      ]
    },
    {
      "cell_type": "markdown",
      "metadata": {
        "id": "9U9G-IOZuxii"
      },
      "source": [
        "# Importing necessary libraries"
      ]
    },
    {
      "cell_type": "code",
      "execution_count": null,
      "metadata": {
        "id": "CZ8t5qHluxik"
      },
      "outputs": [],
      "source": [
        "import nltk\n",
        "from nltk.tokenize import word_tokenize, sent_tokenize"
      ]
    },
    {
      "cell_type": "markdown",
      "metadata": {
        "id": "p8NB3d7-uxil"
      },
      "source": [
        "# Sample Text"
      ]
    },
    {
      "cell_type": "code",
      "execution_count": null,
      "metadata": {
        "id": "cKhlFObCuxim"
      },
      "outputs": [],
      "source": [
        "text = \"This is a sample sentence. And here is another one.\""
      ]
    },
    {
      "cell_type": "markdown",
      "metadata": {
        "id": "YN5Yts8uuxim"
      },
      "source": [
        "# Tokenize into words"
      ]
    },
    {
      "cell_type": "code",
      "execution_count": null,
      "metadata": {
        "id": "lb1adCpMuxim",
        "outputId": "f9d08559-e4a8-459d-d326-6c7eb1f33dfa"
      },
      "outputs": [
        {
          "name": "stdout",
          "output_type": "stream",
          "text": [
            "Tokenize into words\n",
            "Tokenized words: ['This', 'is', 'a', 'sample', 'sentence', '.', 'And', 'here', 'is', 'another', 'one', '.']\n",
            "\n"
          ]
        }
      ],
      "source": [
        "print(\"Tokenize into words\")\n",
        "words = word_tokenize(text)\n",
        "print(\"Tokenized words:\", words)\n",
        "print()"
      ]
    },
    {
      "cell_type": "markdown",
      "metadata": {
        "id": "RobRhUXnuxio"
      },
      "source": [
        "# Tokenize into sentences"
      ]
    },
    {
      "cell_type": "code",
      "execution_count": null,
      "metadata": {
        "id": "BFZ3-wF5uxiq",
        "outputId": "5b9dd298-bd74-46d7-fc36-827a4f0454e2"
      },
      "outputs": [
        {
          "name": "stdout",
          "output_type": "stream",
          "text": [
            "Tokenize into sentences\n",
            "Tokenized sentences: ['This is a sample sentence.', 'And here is another one.']\n"
          ]
        }
      ],
      "source": [
        "print(\"Tokenize into sentences\")\n",
        "sentences = sent_tokenize(text)\n",
        "print(\"Tokenized sentences:\", sentences)"
      ]
    },
    {
      "cell_type": "code",
      "execution_count": null,
      "metadata": {
        "id": "lYrsxcjNuxir"
      },
      "outputs": [],
      "source": []
    }
  ],
  "metadata": {
    "kernelspec": {
      "display_name": "Python 3",
      "language": "python",
      "name": "python3"
    },
    "language_info": {
      "codemirror_mode": {
        "name": "ipython",
        "version": 3
      },
      "file_extension": ".py",
      "mimetype": "text/x-python",
      "name": "python",
      "nbconvert_exporter": "python",
      "pygments_lexer": "ipython3",
      "version": "3.8.5"
    },
    "colab": {
      "provenance": [],
      "include_colab_link": true
    }
  },
  "nbformat": 4,
  "nbformat_minor": 0
}