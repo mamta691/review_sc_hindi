{
  "cells": [
    {
      "cell_type": "markdown",
      "metadata": {
        "id": "view-in-github",
        "colab_type": "text"
      },
      "source": [
        "<a href=\"https://colab.research.google.com/github/mamta691/review_sc_hindi/blob/main/Text_Processing_For_NLP_Word_Count.ipynb\" target=\"_parent\"><img src=\"https://colab.research.google.com/assets/colab-badge.svg\" alt=\"Open In Colab\"/></a>"
      ]
    },
    {
      "cell_type": "markdown",
      "metadata": {
        "id": "0nYdfydluxLb"
      },
      "source": [
        "# Sample text"
      ]
    },
    {
      "cell_type": "code",
      "source": [],
      "metadata": {
        "id": "NyOucUzAwaza"
      },
      "execution_count": null,
      "outputs": []
    },
    {
      "cell_type": "code",
      "execution_count": null,
      "metadata": {
        "id": "C8Ockk5QuxLj"
      },
      "outputs": [],
      "source": [
        "text = \"This is a sample text. It contains some words. This text is used for word count example.\""
      ]
    },
    {
      "cell_type": "markdown",
      "metadata": {
        "id": "iLo8ChSJuxLn"
      },
      "source": [
        "# Tokenization"
      ]
    },
    {
      "cell_type": "code",
      "execution_count": null,
      "metadata": {
        "id": "U5pL4P0tuxLq",
        "outputId": "6b1e00ea-7a84-48a8-867c-d841552f396b"
      },
      "outputs": [
        {
          "name": "stdout",
          "output_type": "stream",
          "text": [
            "Tokenization\n",
            "Tokenized words: ['This', 'is', 'a', 'sample', 'text.', 'It', 'contains', 'some', 'words.', 'This', 'text', 'is', 'used', 'for', 'word', 'count', 'example.']\n",
            "\n"
          ]
        }
      ],
      "source": [
        "print(\"Tokenization\")\n",
        "words = text.split()\n",
        "print(\"Tokenized words:\", words)\n",
        "print()"
      ]
    },
    {
      "cell_type": "markdown",
      "metadata": {
        "id": "t4PRPOCZuxLs"
      },
      "source": [
        "# Counting Words"
      ]
    },
    {
      "cell_type": "code",
      "execution_count": null,
      "metadata": {
        "id": "7IdOJ6SzuxLt",
        "outputId": "40be4c58-306f-4361-b738-8dd6df52de4f"
      },
      "outputs": [
        {
          "name": "stdout",
          "output_type": "stream",
          "text": [
            "Counting words\n",
            "Total word count: 17\n",
            "\n"
          ]
        }
      ],
      "source": [
        "print(\"Counting words\")\n",
        "word_count = len(words)\n",
        "print(\"Total word count:\", word_count)\n",
        "print()"
      ]
    },
    {
      "cell_type": "markdown",
      "metadata": {
        "id": "ufx4JtvmuxLv"
      },
      "source": [
        "# Counting Unique Words"
      ]
    },
    {
      "cell_type": "code",
      "execution_count": null,
      "metadata": {
        "id": "sLkNdUpGuxLx",
        "outputId": "203b0aad-59ec-4149-d8a9-72888f56fbad"
      },
      "outputs": [
        {
          "name": "stdout",
          "output_type": "stream",
          "text": [
            "Counting unique words\n",
            "Total unique word count: 15\n"
          ]
        }
      ],
      "source": [
        "print(\"Counting unique words\")\n",
        "unique_words = set(words)\n",
        "unique_word_count = len(unique_words)\n",
        "print(\"Total unique word count:\", unique_word_count)"
      ]
    },
    {
      "cell_type": "code",
      "execution_count": null,
      "metadata": {
        "id": "KPwqzKRuuxLy"
      },
      "outputs": [],
      "source": []
    }
  ],
  "metadata": {
    "kernelspec": {
      "display_name": "Python 3",
      "language": "python",
      "name": "python3"
    },
    "language_info": {
      "codemirror_mode": {
        "name": "ipython",
        "version": 3
      },
      "file_extension": ".py",
      "mimetype": "text/x-python",
      "name": "python",
      "nbconvert_exporter": "python",
      "pygments_lexer": "ipython3",
      "version": "3.8.5"
    },
    "colab": {
      "provenance": [],
      "include_colab_link": true
    }
  },
  "nbformat": 4,
  "nbformat_minor": 0
}