{
  "cells": [
    {
      "cell_type": "markdown",
      "metadata": {
        "id": "view-in-github",
        "colab_type": "text"
      },
      "source": [
        "<a href=\"https://colab.research.google.com/github/mamta691/review_sc_hindi/blob/main/Useful_NLP_libraries_Textblob(20).ipynb\" target=\"_parent\"><img src=\"https://colab.research.google.com/assets/colab-badge.svg\" alt=\"Open In Colab\"/></a>"
      ]
    },
    {
      "cell_type": "markdown",
      "metadata": {
        "id": "MFdLAwU-c-8U"
      },
      "source": [
        "# Importing necessary libraries"
      ]
    },
    {
      "cell_type": "code",
      "execution_count": null,
      "metadata": {
        "id": "ViD_FM0Nc-8b"
      },
      "outputs": [],
      "source": [
        "import nltk\n",
        "from textblob import TextBlob"
      ]
    },
    {
      "cell_type": "code",
      "execution_count": null,
      "metadata": {
        "id": "ESnwRAb0c-8d",
        "outputId": "9621e8b3-1df4-489c-deac-a1ccd95478c0"
      },
      "outputs": [
        {
          "name": "stderr",
          "output_type": "stream",
          "text": [
            "[nltk_data] Downloading package brown to\n",
            "[nltk_data]     C:\\Users\\Manisha\\AppData\\Roaming\\nltk_data...\n",
            "[nltk_data]   Package brown is already up-to-date!\n"
          ]
        },
        {
          "data": {
            "text/plain": [
              "True"
            ]
          },
          "execution_count": 2,
          "metadata": {},
          "output_type": "execute_result"
        }
      ],
      "source": [
        "nltk.download('brown')"
      ]
    },
    {
      "cell_type": "markdown",
      "metadata": {
        "id": "8hpu60Rpc-8f"
      },
      "source": [
        "# Sample text for demonstration"
      ]
    },
    {
      "cell_type": "code",
      "execution_count": null,
      "metadata": {
        "id": "P-SGS5CQc-8f"
      },
      "outputs": [],
      "source": [
        "text = \"TextBlob is a versatile NLP library for Python. It simplifies many text processing tasks.\""
      ]
    },
    {
      "cell_type": "markdown",
      "metadata": {
        "id": "Jujwb2QSc-8h"
      },
      "source": [
        "# Introduction to TextBlob"
      ]
    },
    {
      "cell_type": "code",
      "execution_count": null,
      "metadata": {
        "id": "T6MqPHSLc-8i",
        "outputId": "00facfe1-23df-4264-ebd9-0a6e0a72d282"
      },
      "outputs": [
        {
          "name": "stdout",
          "output_type": "stream",
          "text": [
            "Introduction to TextBlob: TextBlob is a versatile NLP library for Python. It simplifies many text processing tasks.\n"
          ]
        }
      ],
      "source": [
        "intro_blob = TextBlob(text)\n",
        "print(\"Introduction to TextBlob:\", intro_blob)"
      ]
    },
    {
      "cell_type": "markdown",
      "metadata": {
        "id": "LFjcrhgfc-8k"
      },
      "source": [
        "# Sentiment Analysis and Polarity Detection"
      ]
    },
    {
      "cell_type": "code",
      "execution_count": null,
      "metadata": {
        "id": "a9wuoLrSc-8l",
        "outputId": "c04e1452-3de2-4ad9-aa05-88547db4ddc6"
      },
      "outputs": [
        {
          "name": "stdout",
          "output_type": "stream",
          "text": [
            "Sentiment Analysis: positive (Polarity: 0.625 )\n"
          ]
        }
      ],
      "source": [
        "sentiment_blob = TextBlob(\"I love this product!\")\n",
        "polarity = sentiment_blob.sentiment.polarity\n",
        "sentiment = \"positive\" if polarity > 0 else \"negative\" if polarity < 0 else \"neutral\"\n",
        "print(\"Sentiment Analysis:\", sentiment, \"(Polarity:\", polarity, \")\")"
      ]
    },
    {
      "cell_type": "markdown",
      "metadata": {
        "id": "irHCzlzBc-8m"
      },
      "source": [
        "# Part-of-Speech Tagging and Noun Phrase Extraction"
      ]
    },
    {
      "cell_type": "code",
      "execution_count": null,
      "metadata": {
        "id": "Z9JXOzepc-8n",
        "outputId": "062030c2-0574-42ce-cfff-3232e9cb6793"
      },
      "outputs": [
        {
          "name": "stdout",
          "output_type": "stream",
          "text": [
            "Part-of-Speech Tags: [('The', 'DT'), ('black', 'JJ'), ('cat', 'NN'), ('is', 'VBZ'), ('sleeping', 'VBG'), ('on', 'IN'), ('the', 'DT'), ('soft', 'JJ'), ('mat', 'NN')]\n",
            "Noun Phrases: ['black cat', 'soft mat']\n"
          ]
        }
      ],
      "source": [
        "pos_blob = TextBlob(\"The black cat is sleeping on the soft mat.\")\n",
        "pos_tags = pos_blob.tags\n",
        "noun_phrases = pos_blob.noun_phrases\n",
        "print(\"Part-of-Speech Tags:\", pos_tags)\n",
        "print(\"Noun Phrases:\", noun_phrases)"
      ]
    },
    {
      "cell_type": "markdown",
      "metadata": {
        "id": "MwAgkQjxc-8o"
      },
      "source": [
        "# Language Translation and Language Detection"
      ]
    },
    {
      "cell_type": "code",
      "execution_count": null,
      "metadata": {
        "id": "7Qe3tc80c-8p",
        "outputId": "d0354ef0-b112-4d95-8aa8-259d87f6a2fe"
      },
      "outputs": [
        {
          "name": "stdout",
          "output_type": "stream",
          "text": [
            "Requirement already satisfied: googletrans==4.0.0-rc1 in c:\\users\\manisha\\anaconda3\\lib\\site-packages (4.0.0rc1)\n",
            "Requirement already satisfied: httpx==0.13.3 in c:\\users\\manisha\\anaconda3\\lib\\site-packages (from googletrans==4.0.0-rc1) (0.13.3)\n",
            "Requirement already satisfied: chardet==3.* in c:\\users\\manisha\\anaconda3\\lib\\site-packages (from httpx==0.13.3->googletrans==4.0.0-rc1) (3.0.4)\n",
            "Requirement already satisfied: rfc3986<2,>=1.3 in c:\\users\\manisha\\anaconda3\\lib\\site-packages (from httpx==0.13.3->googletrans==4.0.0-rc1) (1.5.0)\n",
            "Requirement already satisfied: idna==2.* in c:\\users\\manisha\\anaconda3\\lib\\site-packages (from httpx==0.13.3->googletrans==4.0.0-rc1) (2.10)\n",
            "Requirement already satisfied: sniffio in c:\\users\\manisha\\anaconda3\\lib\\site-packages (from httpx==0.13.3->googletrans==4.0.0-rc1) (1.3.0)\n",
            "Requirement already satisfied: httpcore==0.9.* in c:\\users\\manisha\\anaconda3\\lib\\site-packages (from httpx==0.13.3->googletrans==4.0.0-rc1) (0.9.1)\n",
            "Requirement already satisfied: certifi in c:\\users\\manisha\\anaconda3\\lib\\site-packages (from httpx==0.13.3->googletrans==4.0.0-rc1) (2020.6.20)\n",
            "Requirement already satisfied: hstspreload in c:\\users\\manisha\\anaconda3\\lib\\site-packages (from httpx==0.13.3->googletrans==4.0.0-rc1) (2023.1.1)\n",
            "Requirement already satisfied: h11<0.10,>=0.8 in c:\\users\\manisha\\anaconda3\\lib\\site-packages (from httpcore==0.9.*->httpx==0.13.3->googletrans==4.0.0-rc1) (0.9.0)\n",
            "Requirement already satisfied: h2==3.* in c:\\users\\manisha\\anaconda3\\lib\\site-packages (from httpcore==0.9.*->httpx==0.13.3->googletrans==4.0.0-rc1) (3.2.0)\n",
            "Requirement already satisfied: hyperframe<6,>=5.2.0 in c:\\users\\manisha\\anaconda3\\lib\\site-packages (from h2==3.*->httpcore==0.9.*->httpx==0.13.3->googletrans==4.0.0-rc1) (5.2.0)\n",
            "Requirement already satisfied: hpack<4,>=3.0 in c:\\users\\manisha\\anaconda3\\lib\\site-packages (from h2==3.*->httpcore==0.9.*->httpx==0.13.3->googletrans==4.0.0-rc1) (3.0.0)\n"
          ]
        }
      ],
      "source": [
        "!pip install googletrans==4.0.0-rc1"
      ]
    },
    {
      "cell_type": "code",
      "execution_count": null,
      "metadata": {
        "id": "sU-cSOn3c-8q",
        "outputId": "e16459ae-10d9-4e6d-874a-8c816cdb95b6"
      },
      "outputs": [
        {
          "name": "stdout",
          "output_type": "stream",
          "text": [
            "Original Text: Hola, ¿cómo estás?\n",
            "Detected Language: es\n",
            "Translated Text: Hello how are you?\n"
          ]
        }
      ],
      "source": [
        "from googletrans import Translator\n",
        "\n",
        "# Initialize the Translator\n",
        "translator = Translator()\n",
        "\n",
        "# Text to be translated\n",
        "original_text = \"Hola, ¿cómo estás?\"\n",
        "\n",
        "# Detect the language of the original text\n",
        "detected_language = translator.detect(original_text).lang\n",
        "\n",
        "# Translate the text to English\n",
        "translated_text = translator.translate(original_text, src=detected_language, dest='en').text\n",
        "\n",
        "print(\"Original Text:\", original_text)\n",
        "print(\"Detected Language:\", detected_language)\n",
        "print(\"Translated Text:\", translated_text)"
      ]
    },
    {
      "cell_type": "markdown",
      "metadata": {
        "id": "omMcZ4cPc-8r"
      },
      "source": [
        "# Extending TextBlob's Functionality through Extensions"
      ]
    },
    {
      "cell_type": "code",
      "execution_count": null,
      "metadata": {
        "id": "t0tpBvmOc-8r",
        "outputId": "8d0bdc5b-1c0c-438d-a202-3f651d30a70a"
      },
      "outputs": [
        {
          "name": "stdout",
          "output_type": "stream",
          "text": [
            "This is a custom function for TextBlob!\n"
          ]
        }
      ],
      "source": [
        "# Subclass TextBlob to add custom methods\n",
        "class ExtendedTextBlob(TextBlob):\n",
        "    def my_custom_function(self):\n",
        "        return \"This is a custom function for TextBlob!\"\n",
        "\n",
        "# Create an instance of the extended TextBlob\n",
        "extended_blob = ExtendedTextBlob(\"This is some text.\")\n",
        "\n",
        "# Call the custom function\n",
        "result = extended_blob.my_custom_function()\n",
        "print(result)"
      ]
    },
    {
      "cell_type": "code",
      "execution_count": null,
      "metadata": {
        "id": "CRH81G5Vc-8s"
      },
      "outputs": [],
      "source": []
    }
  ],
  "metadata": {
    "kernelspec": {
      "display_name": "Python 3",
      "language": "python",
      "name": "python3"
    },
    "language_info": {
      "codemirror_mode": {
        "name": "ipython",
        "version": 3
      },
      "file_extension": ".py",
      "mimetype": "text/x-python",
      "name": "python",
      "nbconvert_exporter": "python",
      "pygments_lexer": "ipython3",
      "version": "3.8.5"
    },
    "colab": {
      "provenance": [],
      "include_colab_link": true
    }
  },
  "nbformat": 4,
  "nbformat_minor": 0
}