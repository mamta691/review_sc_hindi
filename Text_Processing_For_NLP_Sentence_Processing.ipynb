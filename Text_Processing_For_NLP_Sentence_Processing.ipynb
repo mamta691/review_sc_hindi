{
  "cells": [
    {
      "cell_type": "markdown",
      "metadata": {
        "id": "view-in-github",
        "colab_type": "text"
      },
      "source": [
        "<a href=\"https://colab.research.google.com/github/mamta691/review_sc_hindi/blob/main/Text_Processing_For_NLP_Sentence_Processing.ipynb\" target=\"_parent\"><img src=\"https://colab.research.google.com/assets/colab-badge.svg\" alt=\"Open In Colab\"/></a>"
      ]
    },
    {
      "cell_type": "markdown",
      "metadata": {
        "id": "Kxxfw7eUuyXX"
      },
      "source": [
        "# Importing Necessary Libraries"
      ]
    },
    {
      "cell_type": "code",
      "execution_count": null,
      "metadata": {
        "id": "O-l0XB5WuyXa"
      },
      "outputs": [],
      "source": [
        "import nltk\n",
        "from nltk.tokenize import sent_tokenize"
      ]
    },
    {
      "cell_type": "markdown",
      "metadata": {
        "id": "PflwTei1uyXd"
      },
      "source": [
        "# Sample text"
      ]
    },
    {
      "cell_type": "code",
      "execution_count": null,
      "metadata": {
        "id": "Wu2sXq9KuyXd"
      },
      "outputs": [],
      "source": [
        "text = \"This is the first sentence. Here comes the second sentence. Finally, the third sentence.\""
      ]
    },
    {
      "cell_type": "markdown",
      "metadata": {
        "id": "D7aZWgKiuyXe"
      },
      "source": [
        "# Tokenize into sentences"
      ]
    },
    {
      "cell_type": "code",
      "execution_count": null,
      "metadata": {
        "id": "v7XJ5rWpuyXe",
        "outputId": "80e690eb-1083-4259-8897-5bad9ce84c92"
      },
      "outputs": [
        {
          "name": "stdout",
          "output_type": "stream",
          "text": [
            "Tokenize into sentences\n",
            "Tokenized sentences: ['This is the first sentence.', 'Here comes the second sentence.', 'Finally, the third sentence.']\n",
            "\n"
          ]
        }
      ],
      "source": [
        "print(\"Tokenize into sentences\")\n",
        "sentences = sent_tokenize(text)\n",
        "print(\"Tokenized sentences:\", sentences)\n",
        "print()"
      ]
    },
    {
      "cell_type": "markdown",
      "metadata": {
        "id": "AjW8XmjquyXg"
      },
      "source": [
        "# Count sentences"
      ]
    },
    {
      "cell_type": "code",
      "execution_count": null,
      "metadata": {
        "id": "oTYi0VYDuyXh",
        "outputId": "f80f3d87-e6d2-4962-f59e-3fa80befb3fe"
      },
      "outputs": [
        {
          "name": "stdout",
          "output_type": "stream",
          "text": [
            "Count sentences\n",
            "Number of sentences: 3\n",
            "\n"
          ]
        }
      ],
      "source": [
        "print(\"Count sentences\")\n",
        "num_sentences = len(sentences)\n",
        "print(\"Number of sentences:\", num_sentences)\n",
        "print()"
      ]
    },
    {
      "cell_type": "markdown",
      "metadata": {
        "id": "cgE_LpBtuyXi"
      },
      "source": [
        "# Finding the longest sentence"
      ]
    },
    {
      "cell_type": "code",
      "execution_count": null,
      "metadata": {
        "id": "Fju_LK1ZuyXj",
        "outputId": "29599af2-1238-48e8-a039-fc9d49dce773"
      },
      "outputs": [
        {
          "name": "stdout",
          "output_type": "stream",
          "text": [
            "Finding the longest sentence\n",
            "Longest sentence: Here comes the second sentence.\n",
            "\n"
          ]
        }
      ],
      "source": [
        "print(\"Finding the longest sentence\")\n",
        "longest_sentence = max(sentences, key=len)\n",
        "print(\"Longest sentence:\", longest_sentence)\n",
        "print()"
      ]
    },
    {
      "cell_type": "markdown",
      "metadata": {
        "id": "TPK91eWbuyXk"
      },
      "source": [
        "# Removing punctuation from sentences"
      ]
    },
    {
      "cell_type": "code",
      "execution_count": null,
      "metadata": {
        "id": "HqtTkRmfuyXk",
        "outputId": "a3ba0c8e-44ec-40d6-ef0a-aaa3a8fc2a86"
      },
      "outputs": [
        {
          "name": "stdout",
          "output_type": "stream",
          "text": [
            "Removing punctuation from sentences\n",
            "Sentences without punctuation: ['This is the first sentence', 'Here comes the second sentence', 'Finally the third sentence']\n"
          ]
        }
      ],
      "source": [
        "print(\"Removing punctuation from sentences\")\n",
        "import string\n",
        "\n",
        "def remove_punctuation(sentence):\n",
        "    translator = str.maketrans(\"\", \"\", string.punctuation)\n",
        "    return sentence.translate(translator)\n",
        "\n",
        "cleaned_sentences = [remove_punctuation(sentence) for sentence in sentences]\n",
        "print(\"Sentences without punctuation:\", cleaned_sentences)"
      ]
    },
    {
      "cell_type": "code",
      "execution_count": null,
      "metadata": {
        "id": "QcAKqhtUuyXk"
      },
      "outputs": [],
      "source": []
    }
  ],
  "metadata": {
    "kernelspec": {
      "display_name": "Python 3",
      "language": "python",
      "name": "python3"
    },
    "language_info": {
      "codemirror_mode": {
        "name": "ipython",
        "version": 3
      },
      "file_extension": ".py",
      "mimetype": "text/x-python",
      "name": "python",
      "nbconvert_exporter": "python",
      "pygments_lexer": "ipython3",
      "version": "3.8.5"
    },
    "colab": {
      "provenance": [],
      "include_colab_link": true
    }
  },
  "nbformat": 4,
  "nbformat_minor": 0
}